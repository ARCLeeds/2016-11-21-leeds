{
 "cells": [
  {
   "cell_type": "markdown",
   "metadata": {},
   "source": [
    "## Starting with Pandas\n",
    "\n",
    "Date: 2016-11-21\n"
   ]
  },
  {
   "cell_type": "code",
   "execution_count": 1,
   "metadata": {
    "collapsed": false
   },
   "outputs": [
    {
     "name": "stdout",
     "output_type": "stream",
     "text": [
      "hello\n"
     ]
    }
   ],
   "source": [
    "print(\"hello\")"
   ]
  },
  {
   "cell_type": "markdown",
   "metadata": {},
   "source": [
    "Write some thoughts about hte outcome of hte analysis...."
   ]
  },
  {
   "cell_type": "code",
   "execution_count": 2,
   "metadata": {
    "collapsed": true
   },
   "outputs": [],
   "source": [
    "import pandas as pd"
   ]
  },
  {
   "cell_type": "code",
   "execution_count": 5,
   "metadata": {
    "collapsed": false,
    "scrolled": false
   },
   "outputs": [],
   "source": [
    "articles_df = pd.read_csv('articles.csv')"
   ]
  },
  {
   "cell_type": "code",
   "execution_count": 10,
   "metadata": {
    "collapsed": false
   },
   "outputs": [
    {
     "data": {
      "text/html": [
       "<div>\n",
       "<table border=\"1\" class=\"dataframe\">\n",
       "  <thead>\n",
       "    <tr style=\"text-align: right;\">\n",
       "      <th></th>\n",
       "      <th>id</th>\n",
       "      <th>Title</th>\n",
       "      <th>Authors</th>\n",
       "      <th>DOI</th>\n",
       "      <th>URL</th>\n",
       "      <th>Subjects</th>\n",
       "      <th>ISSNs</th>\n",
       "      <th>Citation</th>\n",
       "      <th>LanguageId</th>\n",
       "      <th>LicenceId</th>\n",
       "      <th>Author_Count</th>\n",
       "      <th>First_Author</th>\n",
       "      <th>Citation_Count</th>\n",
       "      <th>Day</th>\n",
       "      <th>Month</th>\n",
       "      <th>Year</th>\n",
       "    </tr>\n",
       "  </thead>\n",
       "  <tbody>\n",
       "    <tr>\n",
       "      <th>0</th>\n",
       "      <td>0</td>\n",
       "      <td>The Fisher Thermodynamics of Quasi-Probabilities</td>\n",
       "      <td>Flavia Pennini|Angelo Plastino</td>\n",
       "      <td>10.3390/e17127853</td>\n",
       "      <td>https://doaj.org/article/b75e8d5cca3f46cbbd63e...</td>\n",
       "      <td>Fisher information|quasi-probabilities|complem...</td>\n",
       "      <td>1099-4300</td>\n",
       "      <td>Entropy, Vol 17, Iss 12, Pp 7848-7858 (2015)</td>\n",
       "      <td>1</td>\n",
       "      <td>1</td>\n",
       "      <td>2</td>\n",
       "      <td>Flavia Pennini</td>\n",
       "      <td>4</td>\n",
       "      <td>1</td>\n",
       "      <td>11</td>\n",
       "      <td>2015</td>\n",
       "    </tr>\n",
       "    <tr>\n",
       "      <th>1</th>\n",
       "      <td>1</td>\n",
       "      <td>Aflatoxin Contamination of the Milk Supply: A ...</td>\n",
       "      <td>Naveed Aslam|Peter C. Wynn</td>\n",
       "      <td>10.3390/agriculture5041172</td>\n",
       "      <td>https://doaj.org/article/0edc5af6672641c0bd456...</td>\n",
       "      <td>aflatoxins|AFM1|AFB1|milk marketing chains|hep...</td>\n",
       "      <td>2077-0472</td>\n",
       "      <td>Agriculture (Basel), Vol 5, Iss 4, Pp 1172-118...</td>\n",
       "      <td>1</td>\n",
       "      <td>1</td>\n",
       "      <td>2</td>\n",
       "      <td>Naveed Aslam</td>\n",
       "      <td>5</td>\n",
       "      <td>1</td>\n",
       "      <td>11</td>\n",
       "      <td>2015</td>\n",
       "    </tr>\n",
       "    <tr>\n",
       "      <th>2</th>\n",
       "      <td>2</td>\n",
       "      <td>Metagenomic Analysis of Upwelling-Affected Bra...</td>\n",
       "      <td>Rafael R. C. Cuadrat|Juliano C. Cury|Alberto M...</td>\n",
       "      <td>10.3390/ijms161226101</td>\n",
       "      <td>https://doaj.org/article/d9fe469f75a0442382b84...</td>\n",
       "      <td>PKS|NRPS|metagenomics|environmental genomics|u...</td>\n",
       "      <td>1422-0067</td>\n",
       "      <td>International Journal of Molecular Sciences, V...</td>\n",
       "      <td>1</td>\n",
       "      <td>1</td>\n",
       "      <td>3</td>\n",
       "      <td>Rafael R. C. Cuadrat</td>\n",
       "      <td>8</td>\n",
       "      <td>1</td>\n",
       "      <td>11</td>\n",
       "      <td>2015</td>\n",
       "    </tr>\n",
       "  </tbody>\n",
       "</table>\n",
       "</div>"
      ],
      "text/plain": [
       "   id                                              Title  \\\n",
       "0   0   The Fisher Thermodynamics of Quasi-Probabilities   \n",
       "1   1  Aflatoxin Contamination of the Milk Supply: A ...   \n",
       "2   2  Metagenomic Analysis of Upwelling-Affected Bra...   \n",
       "\n",
       "                                             Authors  \\\n",
       "0                     Flavia Pennini|Angelo Plastino   \n",
       "1                         Naveed Aslam|Peter C. Wynn   \n",
       "2  Rafael R. C. Cuadrat|Juliano C. Cury|Alberto M...   \n",
       "\n",
       "                          DOI  \\\n",
       "0           10.3390/e17127853   \n",
       "1  10.3390/agriculture5041172   \n",
       "2       10.3390/ijms161226101   \n",
       "\n",
       "                                                 URL  \\\n",
       "0  https://doaj.org/article/b75e8d5cca3f46cbbd63e...   \n",
       "1  https://doaj.org/article/0edc5af6672641c0bd456...   \n",
       "2  https://doaj.org/article/d9fe469f75a0442382b84...   \n",
       "\n",
       "                                            Subjects      ISSNs  \\\n",
       "0  Fisher information|quasi-probabilities|complem...  1099-4300   \n",
       "1  aflatoxins|AFM1|AFB1|milk marketing chains|hep...  2077-0472   \n",
       "2  PKS|NRPS|metagenomics|environmental genomics|u...  1422-0067   \n",
       "\n",
       "                                            Citation  LanguageId  LicenceId  \\\n",
       "0       Entropy, Vol 17, Iss 12, Pp 7848-7858 (2015)           1          1   \n",
       "1  Agriculture (Basel), Vol 5, Iss 4, Pp 1172-118...           1          1   \n",
       "2  International Journal of Molecular Sciences, V...           1          1   \n",
       "\n",
       "   Author_Count          First_Author  Citation_Count  Day  Month  Year  \n",
       "0             2        Flavia Pennini               4    1     11  2015  \n",
       "1             2          Naveed Aslam               5    1     11  2015  \n",
       "2             3  Rafael R. C. Cuadrat               8    1     11  2015  "
      ]
     },
     "execution_count": 10,
     "metadata": {},
     "output_type": "execute_result"
    }
   ],
   "source": [
    "articles_df.head(3)"
   ]
  },
  {
   "cell_type": "code",
   "execution_count": 7,
   "metadata": {
    "collapsed": false
   },
   "outputs": [
    {
     "data": {
      "text/plain": [
       "pandas.core.frame.DataFrame"
      ]
     },
     "execution_count": 7,
     "metadata": {},
     "output_type": "execute_result"
    }
   ],
   "source": [
    "type(articles_df)"
   ]
  },
  {
   "cell_type": "code",
   "execution_count": 8,
   "metadata": {
    "collapsed": false
   },
   "outputs": [
    {
     "data": {
      "text/plain": [
       "id                 int64\n",
       "Title             object\n",
       "Authors           object\n",
       "DOI               object\n",
       "URL               object\n",
       "Subjects          object\n",
       "ISSNs             object\n",
       "Citation          object\n",
       "LanguageId         int64\n",
       "LicenceId          int64\n",
       "Author_Count       int64\n",
       "First_Author      object\n",
       "Citation_Count     int64\n",
       "Day                int64\n",
       "Month              int64\n",
       "Year               int64\n",
       "dtype: object"
      ]
     },
     "execution_count": 8,
     "metadata": {},
     "output_type": "execute_result"
    }
   ],
   "source": [
    "articles_df.dtypes"
   ]
  },
  {
   "cell_type": "code",
   "execution_count": 12,
   "metadata": {
    "collapsed": false
   },
   "outputs": [
    {
     "data": {
      "text/plain": [
       "array(['id', 'Title', 'Authors', 'DOI', 'URL', 'Subjects', 'ISSNs',\n",
       "       'Citation', 'LanguageId', 'LicenceId', 'Author_Count',\n",
       "       'First_Author', 'Citation_Count', 'Day', 'Month', 'Year'], dtype=object)"
      ]
     },
     "execution_count": 12,
     "metadata": {},
     "output_type": "execute_result"
    }
   ],
   "source": [
    "articles_df.columns.values"
   ]
  },
  {
   "cell_type": "code",
   "execution_count": 13,
   "metadata": {
    "collapsed": false
   },
   "outputs": [
    {
     "data": {
      "text/plain": [
       "array([11, 12,  8,  4, 10,  9,  7,  6,  5,  3,  2,  1])"
      ]
     },
     "execution_count": 13,
     "metadata": {},
     "output_type": "execute_result"
    }
   ],
   "source": [
    "pd.unique(articles_df['Month'])"
   ]
  },
  {
   "cell_type": "code",
   "execution_count": 15,
   "metadata": {
    "collapsed": false
   },
   "outputs": [
    {
     "data": {
      "text/plain": [
       "array([11, 12,  8,  4, 10,  9,  7,  6,  5,  3,  2,  1])"
      ]
     },
     "execution_count": 15,
     "metadata": {},
     "output_type": "execute_result"
    }
   ],
   "source": [
    "articles_df['Month'].unique()"
   ]
  },
  {
   "cell_type": "code",
   "execution_count": 17,
   "metadata": {
    "collapsed": false
   },
   "outputs": [
    {
     "data": {
      "text/plain": [
       "array([11, 12,  8,  4, 10,  9,  7,  6,  5,  3,  2,  1])"
      ]
     },
     "execution_count": 17,
     "metadata": {},
     "output_type": "execute_result"
    }
   ],
   "source": [
    "articles_df.Month.unique()"
   ]
  },
  {
   "cell_type": "markdown",
   "metadata": {},
   "source": [
    "Create a list of unique ISSNs found in the articles data. Call it publications (Note: each publication has a unique ISSN). How many unique publications (ISSNs) are there in the data?"
   ]
  },
  {
   "cell_type": "code",
   "execution_count": 38,
   "metadata": {
    "collapsed": false
   },
   "outputs": [
    {
     "data": {
      "text/plain": [
       "51"
      ]
     },
     "execution_count": 38,
     "metadata": {},
     "output_type": "execute_result"
    }
   ],
   "source": [
    "len(articles_df.ISSNs.unique())"
   ]
  },
  {
   "cell_type": "code",
   "execution_count": 43,
   "metadata": {
    "collapsed": false
   },
   "outputs": [
    {
     "data": {
      "text/plain": [
       "51"
      ]
     },
     "execution_count": 43,
     "metadata": {},
     "output_type": "execute_result"
    }
   ],
   "source": [
    "publications = articles_df.ISSNs.unique()\n",
    "print(len(publications))\n"
   ]
  },
  {
   "cell_type": "code",
   "execution_count": 46,
   "metadata": {
    "collapsed": false
   },
   "outputs": [
    {
     "data": {
      "text/plain": [
       "array(['1099-4300', '2077-0472', '1422-0067', '2304-6740', '2306-5338',\n",
       "       '1420-3049', '2073-4344', '2073-8994', '2075-4418', '2073-4360',\n",
       "       '1424-8220', '2072-6694', '2075-1702', '2077-0375', '2077-1444',\n",
       "       '2072-6651', '1996-1944', '1999-4907', '2220-9964', '2079-7737',\n",
       "       '2079-6374', '2076-3905', '1660-4601', '2071-1050', '2075-4442',\n",
       "       '2073-4425', '2079-9268', '2075-5309', '2078-1547', '2076-393X',\n",
       "       '2072-4292', '2076-3417', '2075-4701', '2073-4395', '2306-5354',\n",
       "       '1999-4915', '2076-0787', '2304-6767', '2075-163X', '1660-3397',\n",
       "       '2072-6643', '2073-4441', '2305-6304', '2079-8954', '2227-9717',\n",
       "       '2076-2615', '2067-2764|2247-6202', '2250-1177',\n",
       "       '0367-0449|1988-3250', '2278-4748|2278-4802', '2056-9890'], dtype=object)"
      ]
     },
     "execution_count": 46,
     "metadata": {},
     "output_type": "execute_result"
    }
   ],
   "source": [
    "publications = articles_df.ISSNs.unique()"
   ]
  },
  {
   "cell_type": "code",
   "execution_count": 24,
   "metadata": {
    "collapsed": false
   },
   "outputs": [
    {
     "data": {
      "text/plain": [
       "array([ 1,  2,  3,  4,  5,  6,  7,  8,  9, 10, 11, 12])"
      ]
     },
     "execution_count": 24,
     "metadata": {},
     "output_type": "execute_result"
    }
   ],
   "source": [
    "articles_df.Month.sort_values().unique()"
   ]
  },
  {
   "cell_type": "code",
   "execution_count": 37,
   "metadata": {
    "collapsed": false
   },
   "outputs": [
    {
     "data": {
      "text/plain": [
       "[1, 2, 3, 4, 5, 6, 7, 8, 9, 10, 11, 12]"
      ]
     },
     "execution_count": 37,
     "metadata": {},
     "output_type": "execute_result"
    }
   ],
   "source": [
    "months = articles_df.Month.unique().tolist()\n",
    "months.sort()\n",
    "months"
   ]
  },
  {
   "cell_type": "code",
   "execution_count": null,
   "metadata": {
    "collapsed": true
   },
   "outputs": [],
   "source": []
  }
 ],
 "metadata": {
  "kernelspec": {
   "display_name": "Python [Root]",
   "language": "python",
   "name": "Python [Root]"
  },
  "language_info": {
   "codemirror_mode": {
    "name": "ipython",
    "version": 3
   },
   "file_extension": ".py",
   "mimetype": "text/x-python",
   "name": "python",
   "nbconvert_exporter": "python",
   "pygments_lexer": "ipython3",
   "version": "3.5.2"
  }
 },
 "nbformat": 4,
 "nbformat_minor": 0
}
